{
 "cells": [
  {
   "cell_type": "markdown",
   "metadata": {
    "id": "PAxZeSNCXVDs"
   },
   "source": [
    "# Data Science Job Salaries\n",
    "\n",
    "Data science is an interdisciplinary field that uses scientific methods, processes, algorithms and systems to extract knowledge and insights from noisy, structured and unstructured data, and apply knowledge from data across a broad range of application domains. This dataset contains the salary detais for data scientist along with other parameters.\n"
   ]
  },
  {
   "cell_type": "markdown",
   "metadata": {
    "id": "sfjoGCNqXVDv"
   },
   "source": [
    "## Downloading the Dataset"
   ]
  },
  {
   "cell_type": "markdown",
   "metadata": {
    "id": "fEg2KIOqXVDy"
   },
   "source": [
    "Let's begin by downloading the data, and listing the files within the dataset."
   ]
  },
  {
   "cell_type": "code",
   "execution_count": 3,
   "metadata": {
    "id": "zyAaGffQXVDz"
   },
   "outputs": [],
   "source": [
    "dataset_url = 'https://www.kaggle.com/datasets/ruchi798/data-science-job-salaries' "
   ]
  },
  {
   "cell_type": "code",
   "execution_count": 4,
   "metadata": {
    "colab": {
     "base_uri": "https://localhost:8080/"
    },
    "id": "pM2M3ygNXVD0",
    "outputId": "50d43dd1-74ce-4378-f421-33525976b122"
   },
   "outputs": [
    {
     "name": "stdout",
     "output_type": "stream",
     "text": [
      "Skipping, found downloaded files in \"./data-science-job-salaries\" (use force=True to force download)\n"
     ]
    }
   ],
   "source": [
    "import opendatasets as od\n",
    "od.download(dataset_url)"
   ]
  },
  {
   "cell_type": "markdown",
   "metadata": {
    "id": "p02Bl3z0XVD4"
   },
   "source": [
    "The dataset has been downloaded and extracted."
   ]
  },
  {
   "cell_type": "code",
   "execution_count": 5,
   "metadata": {
    "id": "4YyjDNzTXVD5"
   },
   "outputs": [
    {
     "data": {
      "text/plain": [
       "['ds_salaries.csv']"
      ]
     },
     "execution_count": 5,
     "metadata": {},
     "output_type": "execute_result"
    }
   ],
   "source": [
    "data_dir = './data-science-job-salaries'\n",
    "\n",
    "import os\n",
    "os.listdir(data_dir)"
   ]
  },
  {
   "cell_type": "markdown",
   "metadata": {
    "id": "9HdtoAcpXVD-"
   },
   "source": [
    "## Data Preparation and Cleaning\n",
    "\n",
    "Let us look into the data and see which all columns are usefull. If required we can add more columns accordingly.\n",
    "\n"
   ]
  },
  {
   "cell_type": "code",
   "execution_count": 6,
   "metadata": {
    "id": "6fUGYVXHXVEC"
   },
   "outputs": [
    {
     "data": {
      "text/html": [
       "<div>\n",
       "<style scoped>\n",
       "    .dataframe tbody tr th:only-of-type {\n",
       "        vertical-align: middle;\n",
       "    }\n",
       "\n",
       "    .dataframe tbody tr th {\n",
       "        vertical-align: top;\n",
       "    }\n",
       "\n",
       "    .dataframe thead th {\n",
       "        text-align: right;\n",
       "    }\n",
       "</style>\n",
       "<table border=\"1\" class=\"dataframe\">\n",
       "  <thead>\n",
       "    <tr style=\"text-align: right;\">\n",
       "      <th></th>\n",
       "      <th>Unnamed: 0</th>\n",
       "      <th>work_year</th>\n",
       "      <th>experience_level</th>\n",
       "      <th>employment_type</th>\n",
       "      <th>job_title</th>\n",
       "      <th>salary</th>\n",
       "      <th>salary_currency</th>\n",
       "      <th>salary_in_usd</th>\n",
       "      <th>employee_residence</th>\n",
       "      <th>remote_ratio</th>\n",
       "      <th>company_location</th>\n",
       "      <th>company_size</th>\n",
       "    </tr>\n",
       "  </thead>\n",
       "  <tbody>\n",
       "    <tr>\n",
       "      <th>0</th>\n",
       "      <td>0</td>\n",
       "      <td>2020</td>\n",
       "      <td>MI</td>\n",
       "      <td>FT</td>\n",
       "      <td>Data Scientist</td>\n",
       "      <td>70000</td>\n",
       "      <td>EUR</td>\n",
       "      <td>79833</td>\n",
       "      <td>DE</td>\n",
       "      <td>0</td>\n",
       "      <td>DE</td>\n",
       "      <td>L</td>\n",
       "    </tr>\n",
       "    <tr>\n",
       "      <th>1</th>\n",
       "      <td>1</td>\n",
       "      <td>2020</td>\n",
       "      <td>SE</td>\n",
       "      <td>FT</td>\n",
       "      <td>Machine Learning Scientist</td>\n",
       "      <td>260000</td>\n",
       "      <td>USD</td>\n",
       "      <td>260000</td>\n",
       "      <td>JP</td>\n",
       "      <td>0</td>\n",
       "      <td>JP</td>\n",
       "      <td>S</td>\n",
       "    </tr>\n",
       "    <tr>\n",
       "      <th>2</th>\n",
       "      <td>2</td>\n",
       "      <td>2020</td>\n",
       "      <td>SE</td>\n",
       "      <td>FT</td>\n",
       "      <td>Big Data Engineer</td>\n",
       "      <td>85000</td>\n",
       "      <td>GBP</td>\n",
       "      <td>109024</td>\n",
       "      <td>GB</td>\n",
       "      <td>50</td>\n",
       "      <td>GB</td>\n",
       "      <td>M</td>\n",
       "    </tr>\n",
       "    <tr>\n",
       "      <th>3</th>\n",
       "      <td>3</td>\n",
       "      <td>2020</td>\n",
       "      <td>MI</td>\n",
       "      <td>FT</td>\n",
       "      <td>Product Data Analyst</td>\n",
       "      <td>20000</td>\n",
       "      <td>USD</td>\n",
       "      <td>20000</td>\n",
       "      <td>HN</td>\n",
       "      <td>0</td>\n",
       "      <td>HN</td>\n",
       "      <td>S</td>\n",
       "    </tr>\n",
       "    <tr>\n",
       "      <th>4</th>\n",
       "      <td>4</td>\n",
       "      <td>2020</td>\n",
       "      <td>SE</td>\n",
       "      <td>FT</td>\n",
       "      <td>Machine Learning Engineer</td>\n",
       "      <td>150000</td>\n",
       "      <td>USD</td>\n",
       "      <td>150000</td>\n",
       "      <td>US</td>\n",
       "      <td>50</td>\n",
       "      <td>US</td>\n",
       "      <td>L</td>\n",
       "    </tr>\n",
       "  </tbody>\n",
       "</table>\n",
       "</div>"
      ],
      "text/plain": [
       "   Unnamed: 0  work_year experience_level employment_type  \\\n",
       "0           0       2020               MI              FT   \n",
       "1           1       2020               SE              FT   \n",
       "2           2       2020               SE              FT   \n",
       "3           3       2020               MI              FT   \n",
       "4           4       2020               SE              FT   \n",
       "\n",
       "                    job_title  salary salary_currency  salary_in_usd  \\\n",
       "0              Data Scientist   70000             EUR          79833   \n",
       "1  Machine Learning Scientist  260000             USD         260000   \n",
       "2           Big Data Engineer   85000             GBP         109024   \n",
       "3        Product Data Analyst   20000             USD          20000   \n",
       "4   Machine Learning Engineer  150000             USD         150000   \n",
       "\n",
       "  employee_residence  remote_ratio company_location company_size  \n",
       "0                 DE             0               DE            L  \n",
       "1                 JP             0               JP            S  \n",
       "2                 GB            50               GB            M  \n",
       "3                 HN             0               HN            S  \n",
       "4                 US            50               US            L  "
      ]
     },
     "execution_count": 6,
     "metadata": {},
     "output_type": "execute_result"
    }
   ],
   "source": [
    "import pandas as pd\n",
    "salary_df = pd.read_csv(data_dir+\"/ds_salaries.csv\")\n",
    "salary_df.head()"
   ]
  },
  {
   "cell_type": "code",
   "execution_count": 7,
   "metadata": {
    "colab": {
     "base_uri": "https://localhost:8080/"
    },
    "id": "d4ryyHhQXVED",
    "outputId": "f93a540f-691d-43db-92bb-a3d86398a34f"
   },
   "outputs": [
    {
     "name": "stdout",
     "output_type": "stream",
     "text": [
      "<class 'pandas.core.frame.DataFrame'>\n",
      "RangeIndex: 607 entries, 0 to 606\n",
      "Data columns (total 12 columns):\n",
      " #   Column              Non-Null Count  Dtype \n",
      "---  ------              --------------  ----- \n",
      " 0   Unnamed: 0          607 non-null    int64 \n",
      " 1   work_year           607 non-null    int64 \n",
      " 2   experience_level    607 non-null    object\n",
      " 3   employment_type     607 non-null    object\n",
      " 4   job_title           607 non-null    object\n",
      " 5   salary              607 non-null    int64 \n",
      " 6   salary_currency     607 non-null    object\n",
      " 7   salary_in_usd       607 non-null    int64 \n",
      " 8   employee_residence  607 non-null    object\n",
      " 9   remote_ratio        607 non-null    int64 \n",
      " 10  company_location    607 non-null    object\n",
      " 11  company_size        607 non-null    object\n",
      "dtypes: int64(5), object(7)\n",
      "memory usage: 57.0+ KB\n"
     ]
    }
   ],
   "source": [
    "salary_df.info()"
   ]
  },
  {
   "cell_type": "markdown",
   "metadata": {
    "id": "YoY2RslgXVEF"
   },
   "source": [
    "## Exploratory Analysis and Visualization\n",
    "\n",
    "We can explore the dataset by plotting some columns.\n",
    "\n"
   ]
  },
  {
   "cell_type": "markdown",
   "metadata": {
    "id": "cZT0DReGXVEH"
   },
   "source": [
    "Let's begin by importing `matplotlib.pyplot` and `seaborn`."
   ]
  },
  {
   "cell_type": "code",
   "execution_count": 8,
   "metadata": {
    "id": "Lc--P8JfXVEH"
   },
   "outputs": [],
   "source": [
    "import seaborn as sns\n",
    "import matplotlib\n",
    "import matplotlib.pyplot as plt\n",
    "%matplotlib inline\n",
    "\n",
    "sns.set_style('darkgrid')\n",
    "matplotlib.rcParams['font.size'] = 14\n",
    "matplotlib.rcParams['figure.figsize'] = (9, 5)\n",
    "matplotlib.rcParams['figure.facecolor'] = '#00000000'"
   ]
  },
  {
   "cell_type": "markdown",
   "metadata": {
    "id": "MMsZ3U5wXVEI"
   },
   "source": [
    "**1. Plotting a histogram of work years.**"
   ]
  },
  {
   "cell_type": "code",
   "execution_count": 46,
   "metadata": {
    "colab": {
     "base_uri": "https://localhost:8080/",
     "height": 360
    },
    "id": "aq5vynVtXVEI",
    "outputId": "7c5903a3-5139-48b2-d576-f95755a66ceb"
   },
   "outputs": [
    {
     "data": {
      "text/plain": [
       "<AxesSubplot:xlabel='work_year', ylabel='count'>"
      ]
     },
     "execution_count": 46,
     "metadata": {},
     "output_type": "execute_result"
    },
    {
     "data": {
      "image/png": "[encoded data removed]",
      "text/plain": [
       "<Figure size 648x360 with 1 Axes>"
      ]
     },
     "metadata": {
      "needs_background": "light"
     },
     "output_type": "display_data"
    }
   ],
   "source": [
    "sns.countplot(x=salary_df['work_year'])"
   ]
  },
  {
   "cell_type": "markdown",
   "metadata": {},
   "source": [
    "This plot shows that most of the employees joined during 2022."
   ]
  },
  {
   "cell_type": "markdown",
   "metadata": {
    "id": "P4R53SCpXVEI"
   },
   "source": [
    "**2. Plotting a histogram of experience levels**"
   ]
  },
  {
   "cell_type": "code",
   "execution_count": 44,
   "metadata": {
    "colab": {
     "base_uri": "https://localhost:8080/",
     "height": 364
    },
    "id": "6TlrALmfXVEJ",
    "outputId": "a046a0e0-60bf-47aa-9979-68eea1958767"
   },
   "outputs": [
    {
     "data": {
      "text/plain": [
       "<AxesSubplot:xlabel='experience_level', ylabel='count'>"
      ]
     },
     "execution_count": 44,
     "metadata": {},
     "output_type": "execute_result"
    },
    {
     "data": {
      "image/png": "[encoded data removed]",
      "text/plain": [
       "<Figure size 648x360 with 1 Axes>"
      ]
     },
     "metadata": {
      "needs_background": "light"
     },
     "output_type": "display_data"
    }
   ],
   "source": [
    "sns.countplot(x=salary_df['experience_level'])"
   ]
  },
  {
   "cell_type": "markdown",
   "metadata": {},
   "source": [
    "This plot shows us that most of the employees are of SE and MI level."
   ]
  },
  {
   "cell_type": "markdown",
   "metadata": {
    "id": "0FlYZOdlXVEJ"
   },
   "source": [
    "**3. Plotting the salaries of employees**"
   ]
  },
  {
   "cell_type": "code",
   "execution_count": 43,
   "metadata": {
    "colab": {
     "base_uri": "https://localhost:8080/",
     "height": 360
    },
    "id": "irL-8fz2XVEK",
    "outputId": "30fd6125-a369-4b86-fdce-3ed5762fe4b4"
   },
   "outputs": [
    {
     "data": {
      "text/plain": [
       "<AxesSubplot:xlabel='salary_in_usd'>"
      ]
     },
     "execution_count": 43,
     "metadata": {},
     "output_type": "execute_result"
    },
    {
     "data": {
      "image/png": "[encoded data removed]",
      "text/plain": [
       "<Figure size 648x360 with 1 Axes>"
      ]
     },
     "metadata": {
      "needs_background": "light"
     },
     "output_type": "display_data"
    }
   ],
   "source": [
    "sns.boxplot(x=salary_df['salary_in_usd'])"
   ]
  },
  {
   "cell_type": "markdown",
   "metadata": {},
   "source": [
    "This plot shows us that most of the employees have a salary under 200k and there are some with very high salaries."
   ]
  },
  {
   "cell_type": "markdown",
   "metadata": {},
   "source": [
    "**4. Plotting a histogram of Company size**"
   ]
  },
  {
   "cell_type": "code",
   "execution_count": 47,
   "metadata": {},
   "outputs": [
    {
     "data": {
      "text/plain": [
       "<AxesSubplot:xlabel='company_size', ylabel='count'>"
      ]
     },
     "execution_count": 47,
     "metadata": {},
     "output_type": "execute_result"
    },
    {
     "data": {
      "image/png": "[encoded data removed]",
      "text/plain": [
       "<Figure size 648x360 with 1 Axes>"
      ]
     },
     "metadata": {
      "needs_background": "light"
     },
     "output_type": "display_data"
    }
   ],
   "source": [
    "sns.countplot(x=salary_df['company_size'])"
   ]
  },
  {
   "cell_type": "markdown",
   "metadata": {},
   "source": [
    "We see that mostly the company size is Large and then Medium. Small size is relatively less."
   ]
  },
  {
   "cell_type": "markdown",
   "metadata": {
    "id": "yu2fHyKpXVEO"
   },
   "source": [
    "## Asking and Answering Questions\n",
    "\n"
   ]
  },
  {
   "cell_type": "markdown",
   "metadata": {
    "id": "uZvXCKnCXVEO"
   },
   "source": [
    "#### Q1: Which are the top paying Job titles?\n",
    "This will help us know the highest paying job title in Data Science."
   ]
  },
  {
   "cell_type": "code",
   "execution_count": 108,
   "metadata": {},
   "outputs": [
    {
     "data": {
      "text/html": [
       "<div>\n",
       "<style scoped>\n",
       "    .dataframe tbody tr th:only-of-type {\n",
       "        vertical-align: middle;\n",
       "    }\n",
       "\n",
       "    .dataframe tbody tr th {\n",
       "        vertical-align: top;\n",
       "    }\n",
       "\n",
       "    .dataframe thead th {\n",
       "        text-align: right;\n",
       "    }\n",
       "</style>\n",
       "<table border=\"1\" class=\"dataframe\">\n",
       "  <thead>\n",
       "    <tr style=\"text-align: right;\">\n",
       "      <th></th>\n",
       "      <th>job_title</th>\n",
       "      <th>salary_in_usd</th>\n",
       "    </tr>\n",
       "  </thead>\n",
       "  <tbody>\n",
       "    <tr>\n",
       "      <th>252</th>\n",
       "      <td>Principal Data Engineer</td>\n",
       "      <td>600000</td>\n",
       "    </tr>\n",
       "    <tr>\n",
       "      <th>97</th>\n",
       "      <td>Financial Data Analyst</td>\n",
       "      <td>450000</td>\n",
       "    </tr>\n",
       "    <tr>\n",
       "      <th>33</th>\n",
       "      <td>Research Scientist</td>\n",
       "      <td>450000</td>\n",
       "    </tr>\n",
       "    <tr>\n",
       "      <th>157</th>\n",
       "      <td>Applied Machine Learning Scientist</td>\n",
       "      <td>423000</td>\n",
       "    </tr>\n",
       "    <tr>\n",
       "      <th>225</th>\n",
       "      <td>Principal Data Scientist</td>\n",
       "      <td>416000</td>\n",
       "    </tr>\n",
       "  </tbody>\n",
       "</table>\n",
       "</div>"
      ],
      "text/plain": [
       "                              job_title  salary_in_usd\n",
       "252             Principal Data Engineer         600000\n",
       "97               Financial Data Analyst         450000\n",
       "33                   Research Scientist         450000\n",
       "157  Applied Machine Learning Scientist         423000\n",
       "225            Principal Data Scientist         416000"
      ]
     },
     "execution_count": 108,
     "metadata": {},
     "output_type": "execute_result"
    }
   ],
   "source": [
    "sorted_salary = salary_df[['job_title','salary_in_usd']].sort_values('salary_in_usd',ascending=False)\n",
    "sorted_salary.head(5)"
   ]
  },
  {
   "cell_type": "markdown",
   "metadata": {
    "id": "7PXebv62kMb4"
   },
   "source": [
    "We see the above 5 are the highest paid job titles in the Data Science."
   ]
  },
  {
   "cell_type": "markdown",
   "metadata": {},
   "source": [
    "#### Q2: Which are the top Average paying job titles?\n",
    "The highest paying job title might not be an accurate representaion of the job distribution. The highest average paying job titles will be a better estimate to understand the salary better."
   ]
  },
  {
   "cell_type": "code",
   "execution_count": 139,
   "metadata": {},
   "outputs": [
    {
     "data": {
      "text/plain": [
       "job_title\n",
       "Data Analytics Lead         405000.000000\n",
       "Principal Data Engineer     328333.333333\n",
       "Financial Data Analyst      275000.000000\n",
       "Principal Data Scientist    215242.428571\n",
       "Director of Data Science    195074.000000\n",
       "Name: salary_in_usd, dtype: float64"
      ]
     },
     "execution_count": 139,
     "metadata": {},
     "output_type": "execute_result"
    }
   ],
   "source": [
    "# Finding the highest paid jobs\n",
    "average_salary = salary_df.groupby('job_title')['salary_in_usd'].mean().sort_values(ascending=False)\n",
    "average_salary.head(5)"
   ]
  },
  {
   "cell_type": "markdown",
   "metadata": {},
   "source": [
    "We now see that there are some other posts that gets a good average salary."
   ]
  },
  {
   "cell_type": "code",
   "execution_count": 140,
   "metadata": {},
   "outputs": [
    {
     "data": {
      "text/plain": [
       "job_title\n",
       "Big Data Engineer                51974.000000\n",
       "Computer Vision Engineer         44419.333333\n",
       "NLP Engineer                     37236.000000\n",
       "Product Data Analyst             13036.000000\n",
       "3D Computer Vision Researcher     5409.000000\n",
       "Name: salary_in_usd, dtype: float64"
      ]
     },
     "execution_count": 140,
     "metadata": {},
     "output_type": "execute_result"
    }
   ],
   "source": [
    "# Finding the lowest paid jobs\n",
    "average_salary.tail(5)"
   ]
  },
  {
   "cell_type": "markdown",
   "metadata": {},
   "source": [
    "Now these are some of the lowest paid job titles."
   ]
  },
  {
   "cell_type": "markdown",
   "metadata": {
    "id": "i9enoZY8XVEP"
   },
   "source": [
    "#### Q3: Which post has the most hiring?\n",
    "This helps us get an idea of how much of employees are hired in each post."
   ]
  },
  {
   "cell_type": "code",
   "execution_count": 138,
   "metadata": {
    "colab": {
     "base_uri": "https://localhost:8080/"
    },
    "id": "NvaMXKoCXVEQ",
    "outputId": "d29058e8-6f57-42fd-b554-5ca8f8900569"
   },
   "outputs": [
    {
     "data": {
      "text/plain": [
       "job_title\n",
       "Data Scientist               143\n",
       "Data Engineer                132\n",
       "Data Analyst                  97\n",
       "Machine Learning Engineer     41\n",
       "Research Scientist            16\n",
       "Name: salary_in_usd, dtype: int64"
      ]
     },
     "execution_count": 138,
     "metadata": {},
     "output_type": "execute_result"
    }
   ],
   "source": [
    "# Finding the most hired jobs\n",
    "hiring = salary_df.groupby('job_title')['salary_in_usd'].count().sort_values(ascending=False)\n",
    "hiring.head(5)"
   ]
  },
  {
   "cell_type": "markdown",
   "metadata": {},
   "source": [
    "These are the post with most hired employees. We see that they neither have the highest pay nor the lowest pay."
   ]
  },
  {
   "cell_type": "code",
   "execution_count": 146,
   "metadata": {},
   "outputs": [
    {
     "name": "stdout",
     "output_type": "stream",
     "text": [
      "Data Scientist : 108187.83216783217\n",
      "Data Engineer  : 112725.0\n",
      "Data Analyst   : 92893.06185567011\n"
     ]
    }
   ],
   "source": [
    "# Finding the avg salary of the most hired jobs\n",
    "print(f\"Data Scientist : {average_salary['Data Scientist']}\")\n",
    "print(f\"Data Engineer  : {average_salary['Data Engineer']}\")\n",
    "print(f\"Data Analyst   : {average_salary['Data Analyst']}\")"
   ]
  },
  {
   "cell_type": "markdown",
   "metadata": {},
   "source": [
    "We see that the average salary of the most hired post is roughly $93k to $110k."
   ]
  },
  {
   "cell_type": "markdown",
   "metadata": {
    "id": "N54ktMk-XVEQ"
   },
   "source": [
    "#### Q4: Which location has the highest salary?\n",
    "We see that the salary varies with the location. Thus it is useful to know the salary distribution based on location."
   ]
  },
  {
   "cell_type": "code",
   "execution_count": 154,
   "metadata": {
    "colab": {
     "base_uri": "https://localhost:8080/",
     "height": 206
    },
    "id": "I-fc-6sTXVER",
    "outputId": "52343471-6cb1-457a-b508-98d6eb38b421"
   },
   "outputs": [
    {
     "data": {
      "text/plain": [
       "company_location\n",
       "US    51139618\n",
       "GB     3834403\n",
       "CA     2994712\n",
       "DE     2292842\n",
       "FR      959560\n",
       "Name: salary_in_usd, dtype: int64"
      ]
     },
     "execution_count": 154,
     "metadata": {},
     "output_type": "execute_result"
    }
   ],
   "source": [
    "# Finding the location with highest salary\n",
    "location_sum = salary_df.groupby('company_location')['salary_in_usd'].sum().sort_values(ascending=False)\n",
    "location_sum.head(5)"
   ]
  },
  {
   "cell_type": "markdown",
   "metadata": {},
   "source": [
    "These are the locations with the highest salaries paid to the employees. But here also we are considering the sum of the salaries, which may not be a good indication of the group data. Thus using the mean or average salary might be a better estimate."
   ]
  },
  {
   "cell_type": "code",
   "execution_count": 156,
   "metadata": {},
   "outputs": [
    {
     "data": {
      "text/plain": [
       "company_location\n",
       "RU    157500.000000\n",
       "US    144055.261972\n",
       "NZ    125000.000000\n",
       "IL    119059.000000\n",
       "JP    114127.333333\n",
       "Name: salary_in_usd, dtype: float64"
      ]
     },
     "execution_count": 156,
     "metadata": {},
     "output_type": "execute_result"
    }
   ],
   "source": [
    "# Finding the highest average salary\n",
    "location = salary_df.groupby('company_location')['salary_in_usd'].mean().sort_values(ascending=False)\n",
    "location.head(5)"
   ]
  },
  {
   "cell_type": "markdown",
   "metadata": {},
   "source": [
    "We now see that some other countries also give a good average salary."
   ]
  },
  {
   "cell_type": "code",
   "execution_count": 157,
   "metadata": {},
   "outputs": [
    {
     "data": {
      "text/plain": [
       "company_location\n",
       "UA    13400.000000\n",
       "PK    13333.333333\n",
       "KE     9272.000000\n",
       "IR     4000.000000\n",
       "VN     4000.000000\n",
       "Name: salary_in_usd, dtype: float64"
      ]
     },
     "execution_count": 157,
     "metadata": {},
     "output_type": "execute_result"
    }
   ],
   "source": [
    "# Finding the lowest averge salary\n",
    "location.tail(5)"
   ]
  },
  {
   "cell_type": "markdown",
   "metadata": {},
   "source": [
    "These are some of the locations with the lowest average salary."
   ]
  },
  {
   "cell_type": "markdown",
   "metadata": {
    "id": "nLauHQ3gXVES"
   },
   "source": [
    "#### Q5: Which currency has the highest pay?"
   ]
  },
  {
   "cell_type": "code",
   "execution_count": 193,
   "metadata": {
    "id": "rUigrtKhXVET"
   },
   "outputs": [
    {
     "data": {
      "text/plain": [
       "salary_currency\n",
       "USD    54631386\n",
       "EUR     6246390\n",
       "GBP     3593523\n",
       "CAD     1750012\n",
       "INR      749670\n",
       "Name: salary_in_usd, dtype: int64"
      ]
     },
     "execution_count": 193,
     "metadata": {},
     "output_type": "execute_result"
    }
   ],
   "source": [
    "currency_sum = salary_df.groupby('salary_currency')['salary_in_usd'].sum().sort_values(ascending=False)\n",
    "currency_sum.head(5)"
   ]
  },
  {
   "cell_type": "markdown",
   "metadata": {},
   "source": [
    "We see that the max salary is obtained in the above currencies. But as mentioned earlier, the max of mean values is more relevent."
   ]
  },
  {
   "cell_type": "code",
   "execution_count": 195,
   "metadata": {
    "id": "dNCCSU7oXVET"
   },
   "outputs": [
    {
     "data": {
      "text/plain": [
       "salary_currency\n",
       "USD    137264.788945\n",
       "CHF    122346.000000\n",
       "SGD    104176.500000\n",
       "CAD     97222.888889\n",
       "AUD     87064.000000\n",
       "Name: salary_in_usd, dtype: float64"
      ]
     },
     "execution_count": 195,
     "metadata": {},
     "output_type": "execute_result"
    }
   ],
   "source": [
    "currency = salary_df.groupby('salary_currency')['salary_in_usd'].mean().sort_values(ascending=False)\n",
    "currency.head(5)"
   ]
  },
  {
   "cell_type": "markdown",
   "metadata": {
    "id": "RnXBv3yiXVEV"
   },
   "source": [
    "## Inferences and Conclusion\n",
    "\n",
    "Upon looking into the data we realized the follwing :\n",
    "- Principal Data Engineer, Financial Data Analyst, Research Scientist, Applied Machine Learning Scientist and Principal Data Scientist are some of the top paid jobs in Data Science field.\n",
    "- Data Analytics Lead, Principal Data Engineer, Financial Data Analyst, Principal Data Scientist and Director of Data Science are some of the top jobs with good average pay.\n",
    "- Jobs such as Data Scientist, Data engineer and Data Analyst have a large hiring with an average salary of $93k to $110k.\n",
    "- Locations such as RU, US, NZ, IL and JP has a good averge salary, but US has the largest total salary due to the large hiring.\n",
    "- US also has the highest pay among others\n"
   ]
  },
  {
   "cell_type": "markdown",
   "metadata": {
    "id": "SrHK-sZBXVEW"
   },
   "source": [
    "## References\n",
    "https://jovian.ai/learn/data-analysis-with-python-zero-to-pandas/lesson/lesson-4-analyzing-tabular-data-with-pandas\n",
    "https://jovian.ai/learn/data-analysis-with-python-zero-to-pandas/lesson/lesson-5-data-visualization-with-matplotlib-and-seaborn"
   ]
  },
  {
   "cell_type": "code",
   "execution_count": null,
   "metadata": {
    "id": "O7R08DFeXVEY"
   },
   "outputs": [],
   "source": []
  }
 ],
 "metadata": {
  "colab": {
   "collapsed_sections": [
    "wogjnP4yXVER",
    "nLauHQ3gXVES",
    "RnXBv3yiXVEV",
    "SrHK-sZBXVEW"
   ],
   "name": "zerotopandas-course-project.ipynb",
   "provenance": []
  },
  "language_info": {
   "codemirror_mode": {
    "name": "ipython",
    "version": 3
   },
   "file_extension": ".py",
   "mimetype": "text/x-python",
   "name": "python",
   "nbconvert_exporter": "python",
   "pygments_lexer": "ipython3",
   "version": "3.9.12"
  },
  "vscode": {
   "interpreter": {
    "hash": "d43d30f4b65870597b3ca585746d892083debcbcb13a2b055bf6da984e4f3f08"
   }
  }
 },
 "nbformat": 4,
 "nbformat_minor": 0
}